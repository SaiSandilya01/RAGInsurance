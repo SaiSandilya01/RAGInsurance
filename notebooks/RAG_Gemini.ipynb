{
 "cells": [
  {
   "cell_type": "code",
   "id": "initial_id",
   "metadata": {
    "collapsed": true,
    "ExecuteTime": {
     "end_time": "2025-06-11T05:40:50.797445Z",
     "start_time": "2025-06-11T05:40:50.788071Z"
    }
   },
   "source": [
    "import os\n",
    "import json\n",
    "from langchain_community.vectorstores import Chroma\n",
    "from langchain_community.embeddings import HuggingFaceEmbeddings\n",
    "from langchain_google_genai import ChatGoogleGenerativeAI\n",
    "from langchain.chains import RetrievalQA\n",
    "from langchain.schema import Document"
   ],
   "outputs": [],
   "execution_count": 25
  },
  {
   "metadata": {
    "ExecuteTime": {
     "end_time": "2025-06-11T05:40:52.067174Z",
     "start_time": "2025-06-11T05:40:52.054815Z"
    }
   },
   "cell_type": "code",
   "source": [
    "with open(\"../data/insurance_policies.json\", \"r\") as f:\n",
    "    data = json.load(f)"
   ],
   "id": "a83f36733558577c",
   "outputs": [],
   "execution_count": 26
  },
  {
   "metadata": {
    "ExecuteTime": {
     "end_time": "2025-06-11T05:40:52.831125Z",
     "start_time": "2025-06-11T05:40:52.814803Z"
    }
   },
   "cell_type": "code",
   "source": [
    "\n",
    "docs = [\n",
    "    Document(\n",
    "        page_content=(\n",
    "            f\"{d['title']}\\n\"\n",
    "            f\"Type: {d['type']}\\n\"\n",
    "            f\"Max Benefit: {d['max_benefit']}\\n\"\n",
    "            f\"Coverage: {', '.join(d['coverage'])}\\n\"\n",
    "            f\"Conditions: {', '.join(d['conditions'])}\\n\"\n",
    "        ),\n",
    "        metadata={\"source\": d[\"id\"]}\n",
    "    )\n",
    "    for d in data\n",
    "]"
   ],
   "id": "632535b0d82921c4",
   "outputs": [],
   "execution_count": 27
  },
  {
   "metadata": {
    "ExecuteTime": {
     "end_time": "2025-06-11T05:41:08.014999Z",
     "start_time": "2025-06-11T05:40:56.655429Z"
    }
   },
   "cell_type": "code",
   "source": [
    "embedding_model = HuggingFaceEmbeddings(model_name=\"all-MiniLM-L6-v2\")\n",
    "vectorstore = Chroma.from_documents(\n",
    "    documents=docs,\n",
    "    embedding=embedding_model,\n",
    "    persist_directory=\"../chroma_store\"\n",
    ")\n",
    "vectorstore.persist()"
   ],
   "id": "9671910d0e4b9a24",
   "outputs": [],
   "execution_count": 28
  },
  {
   "metadata": {
    "ExecuteTime": {
     "end_time": "2025-06-11T05:41:11.244571Z",
     "start_time": "2025-06-11T05:41:11.238224Z"
    }
   },
   "cell_type": "code",
   "source": "os.environ[\"GOOGLE_API_KEY\"] = \"api key\"",
   "id": "160735de8ec58e65",
   "outputs": [],
   "execution_count": 29
  },
  {
   "metadata": {
    "ExecuteTime": {
     "end_time": "2025-06-11T05:41:12.017539Z",
     "start_time": "2025-06-11T05:41:11.958430Z"
    }
   },
   "cell_type": "code",
   "source": [
    "llm = ChatGoogleGenerativeAI(model=\"gemini-2.0-flash\")\n",
    "qa_chain = RetrievalQA.from_chain_type(\n",
    "    llm=llm,\n",
    "    retriever=vectorstore.as_retriever(search_kwargs={\"k\": 3}),\n",
    "    chain_type=\"stuff\"\n",
    ")\n"
   ],
   "id": "349a088f29a149d8",
   "outputs": [],
   "execution_count": 30
  },
  {
   "metadata": {
    "ExecuteTime": {
     "end_time": "2025-06-11T05:41:16.640023Z",
     "start_time": "2025-06-11T05:41:13.963874Z"
    }
   },
   "cell_type": "code",
   "source": [
    "query = \"What is the eligibility for international travel insurance?\"\n",
    "response = qa_chain.run(query)"
   ],
   "id": "a50c5f9c0f6ef220",
   "outputs": [],
   "execution_count": 31
  },
  {
   "metadata": {
    "ExecuteTime": {
     "end_time": "2025-06-11T05:41:16.664147Z",
     "start_time": "2025-06-11T05:41:16.660081Z"
    }
   },
   "cell_type": "code",
   "source": "print(response)",
   "id": "a8d4fab14debfcc7",
   "outputs": [
    {
     "name": "stdout",
     "output_type": "stream",
     "text": [
      "The international travel insurance is available to travelers aged 0 to 70 undertaking international journeys. All applicants must submit valid identity and income proofs, and medical screening may be required based on age and health history.\n"
     ]
    }
   ],
   "execution_count": 32
  },
  {
   "metadata": {
    "ExecuteTime": {
     "end_time": "2025-06-11T05:42:22.089471Z",
     "start_time": "2025-06-11T05:42:21.271248Z"
    }
   },
   "cell_type": "code",
   "source": "print(qa_chain.run(\"maximum value i can avail from travel insurance\"))",
   "id": "14c01c03e4638611",
   "outputs": [
    {
     "name": "stdout",
     "output_type": "stream",
     "text": [
      "The maximum benefit you can avail from the travel insurance plans listed is ₹15,00,000.\n"
     ]
    }
   ],
   "execution_count": 35
  },
  {
   "metadata": {
    "ExecuteTime": {
     "end_time": "2025-06-11T05:42:27.200525Z",
     "start_time": "2025-06-11T05:42:27.194589Z"
    }
   },
   "cell_type": "code",
   "source": "",
   "id": "946bb2a1e68f672a",
   "outputs": [
    {
     "ename": "_IncompleteInputError",
     "evalue": "incomplete input (2413337040.py, line 1)",
     "output_type": "error",
     "traceback": [
      "  \u001B[36mCell\u001B[39m\u001B[36m \u001B[39m\u001B[32mIn[36]\u001B[39m\u001B[32m, line 1\u001B[39m\n\u001B[31m    \u001B[39m\u001B[31mprint((qa_chain.run(\"give me more information regarding this policy\"))\u001B[39m\n                                                                          ^\n\u001B[31m_IncompleteInputError\u001B[39m\u001B[31m:\u001B[39m incomplete input\n"
     ]
    }
   ],
   "execution_count": 36
  },
  {
   "metadata": {
    "ExecuteTime": {
     "end_time": "2025-06-11T05:47:08.887168Z",
     "start_time": "2025-06-11T05:47:06.787189Z"
    }
   },
   "cell_type": "code",
   "source": "print(qa_chain.run(\"give me all the details about the health insurance\"))",
   "id": "ca8e05c04a13dd91",
   "outputs": [
    {
     "name": "stdout",
     "output_type": "stream",
     "text": [
      "Comprehensive Health Insurance (Policy Number: 1075):\n",
      "*   **Coverage Overview:** Hospitalization, outpatient care, maternity, and emergency services. Designed to offer financial protection against unforeseen events and liabilities.\n",
      "*   **Eligibility Criteria:** Individuals aged 18 to 65 and dependent children up to age 25. Requires valid identity and income proofs. Medical screening may be required based on age and health history.\n",
      "*   **Policy Terms:** Subject to sub-limits and co-payments as detailed in the policy schedule. Pre-existing diseases are covered after a waiting period of 36 months.\n",
      "*   **Renewal & Cancellation:** Must be renewed annually before the due date. The insurer reserves the right to cancel the policy in case of non-payment of premium, fraud, or violation of policy terms.\n",
      "\n",
      "CareSecure Health Plus: (Plan ID: 1013 & 1014)\n",
      "*   **Category:** Health Insurance\n",
      "*   **Coverage Details:** In-patient hospitalization expenses; pre and post hospitalization (30 and 60 days respectively); day-care treatments; emergency ambulance charges; free annual health check-ups.\n"
     ]
    }
   ],
   "execution_count": 38
  },
  {
   "metadata": {
    "ExecuteTime": {
     "end_time": "2025-06-11T05:43:02.514610Z",
     "start_time": "2025-06-11T05:43:01.192333Z"
    }
   },
   "cell_type": "code",
   "source": "print(qa_chain.run(\"give me more information regarding this policy\"))",
   "id": "d2c7c00f537987fe",
   "outputs": [
    {
     "name": "stdout",
     "output_type": "stream",
     "text": [
      "Could you please specify which policy you'd like more information on? There are three policies listed:\n",
      "\n",
      "*   **Standard Homeowners Insurance (Policy Number: 1049)**\n",
      "*   **Comprehensive Health Insurance (Policy Number: 1003)**\n",
      "*   **Standard Homeowners Insurance (Policy Number: 1042)**\n",
      "\n",
      "Once you specify which policy, I can provide more details.\n"
     ]
    }
   ],
   "execution_count": 37
  }
 ],
 "metadata": {
  "kernelspec": {
   "display_name": "Python 3",
   "language": "python",
   "name": "python3"
  },
  "language_info": {
   "codemirror_mode": {
    "name": "ipython",
    "version": 2
   },
   "file_extension": ".py",
   "mimetype": "text/x-python",
   "name": "python",
   "nbconvert_exporter": "python",
   "pygments_lexer": "ipython2",
   "version": "2.7.6"
  }
 },
 "nbformat": 4,
 "nbformat_minor": 5
}
